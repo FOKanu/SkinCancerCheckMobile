{
 "cells": [
  {
   "cell_type": "code",
   "execution_count": 79,
   "id": "b2088740",
   "metadata": {},
   "outputs": [],
   "source": [
    "from tensorflow.keras.models import Sequential\n",
    "from tensorflow.keras.layers import Resizing, Conv2D, Flatten, Dense, Rescaling\n",
    "from tensorflow.keras.preprocessing import image_dataset_from_directory\n",
    "from tensorflow.keras.callbacks import EarlyStopping\n",
    "# from tensorflow.keras.utils import split_dataset\n",
    "from tensorflow.data.experimental import cardinality\n",
    "from tensorflow.keras.metrics import SensitivityAtSpecificity, TruePositives, FalseNegatives\n",
    "\n",
    "\n",
    "import os\n"
   ]
  },
  {
   "cell_type": "code",
   "execution_count": null,
   "id": "9d5cc51f",
   "metadata": {},
   "outputs": [],
   "source": [
    "try:\n",
    "    tpu = TPUClusterResolver()  # Detect TPU\n",
    "    experimental_connect_to_cluster(tpu)\n",
    "    initialize_tpu_system(tpu)\n",
    "    strategy = TPUStrategy(tpu)\n",
    "    print(\"Running on TPU\")\n",
    "except ValueError:\n",
    "    strategy = get_strategy()  # Default for CPU/GPU\n",
    "    print(\"Running on CPU/GPU\")"
   ]
  },
  {
   "cell_type": "code",
   "execution_count": 64,
   "id": "e0e3c6b5",
   "metadata": {},
   "outputs": [
    {
     "name": "stdout",
     "output_type": "stream",
     "text": [
      "Found 2637 files belonging to 2 classes.\n",
      "Found 660 files belonging to 2 classes.\n"
     ]
    }
   ],
   "source": [
    "# OS agnostic path handling\n",
    "\n",
    "# If running in a Jupyter notebook, use the current directory\n",
    "# Otherwise, use the directory of the script\n",
    "try:\n",
    "    dirname = os.path.dirname(__file__)\n",
    "except NameError:\n",
    "    dirname = os.getcwd()\n",
    "\n",
    "train_data_path = os.path.join(dirname, './data/train')\n",
    "test_data_path = os.path.join(dirname, './data/test')\n",
    "\n",
    "# load training data locally\n",
    "train_dataset = image_dataset_from_directory(train_data_path,\n",
    "                                             labels='inferred',\n",
    "                                             label_mode=('categorical'),\n",
    "                                             image_size=(224, 224),\n",
    "                                             batch_size=32,\n",
    "                                             shuffle=True)\n",
    "\n",
    "#train_dataset = train_dataset.batch(32, drop_remainder=True)\n",
    "\n",
    "# load testing data locally\n",
    "test_dataset = image_dataset_from_directory('./data/test',\n",
    "                                            labels='inferred',\n",
    "                                            label_mode=('categorical'),\n",
    "                                            image_size=(224, 224),\n",
    "                                            batch_size=32,\n",
    "                                            shuffle=False)\n",
    "\n",
    "# train_split, validation_split = split_dataset(train_dataset, left_size=0.8)\n",
    "\n",
    "# Get the total number of batches\n",
    "total_batches = cardinality(train_dataset).numpy()\n",
    "val_batches = int(0.2 * total_batches)\n",
    "\n",
    "# Split the dataset\n",
    "val_dataset = train_dataset.take(val_batches)\n",
    "train_dataset = train_dataset.skip(val_batches)\n"
   ]
  },
  {
   "cell_type": "code",
   "execution_count": 80,
   "id": "faaa9b39",
   "metadata": {},
   "outputs": [],
   "source": [
    "# Checking out images\n",
    "\n",
    "# Get one batch (images and labels)\n",
    "# for images, labels in train_dataset.take(1):\n",
    "#     # Get the first image and label from the batch\n",
    "#     img = images[0].numpy().astype(\"uint8\")\n",
    "#     label = labels[0].numpy()\n",
    "#     print(\"Image shape:\", img.shape)\n",
    "#     print(\"Label (one-hot):\", label)\n",
    "#     print(images[0].numpy().astype(\"uint8\"))\n",
    "\n",
    "#     # Display the image\n",
    "#     import matplotlib.pyplot as plt\n",
    "#     plt.imshow(img)\n",
    "#     plt.title(f\"Label: {label}\")\n",
    "#     plt.axis('off')\n",
    "#     plt.show()"
   ]
  },
  {
   "cell_type": "code",
   "execution_count": 66,
   "id": "606ac243",
   "metadata": {},
   "outputs": [
    {
     "name": "stdout",
     "output_type": "stream",
     "text": [
      "<class 'tensorflow.python.data.ops.skip_op._SkipDataset'>\n",
      "(32, 224, 224, 3)\n"
     ]
    },
    {
     "name": "stderr",
     "output_type": "stream",
     "text": [
      "2025-06-03 13:00:07.920522: W tensorflow/core/framework/local_rendezvous.cc:404] Local rendezvous is aborting with status: OUT_OF_RANGE: End of sequence\n"
     ]
    }
   ],
   "source": [
    "print(type(train_dataset))\n",
    "\n",
    "# Get one batch from the dataset\n",
    "for images, labels in train_dataset.take(1):\n",
    "    print(images.shape)  # Output: (batch_size, height, width, channels)\n"
   ]
  },
  {
   "cell_type": "code",
   "execution_count": 67,
   "id": "08c91db2",
   "metadata": {},
   "outputs": [],
   "source": [
    "# Define model architecture, simple CNN to start with\n",
    "model = Sequential([\n",
    "    Rescaling(1 / 255, input_shape=(224, 224, 3)),\n",
    "    Resizing(224, 224), # leaving out argument: input_shape=(224, 224, 3)\n",
    "    Conv2D(32, (3, 3), activation='relu'),\n",
    "    Flatten(),\n",
    "    Dense(64, activation='relu'),\n",
    "    Dense(2, activation='softmax')])"
   ]
  },
  {
   "cell_type": "code",
   "execution_count": 68,
   "id": "2ae64cfe",
   "metadata": {},
   "outputs": [],
   "source": [
    "# Compile the model\n",
    "model.compile(optimizer='adam',\n",
    "              loss='categorical_crossentropy',\n",
    "              metrics=['accuracy','recall'])"
   ]
  },
  {
   "cell_type": "code",
   "execution_count": 69,
   "id": "676deb66",
   "metadata": {},
   "outputs": [],
   "source": [
    "es = EarlyStopping(monitor='val_loss', patience=10, restore_best_weights=True)"
   ]
  },
  {
   "cell_type": "code",
   "execution_count": 70,
   "id": "dd9e7736",
   "metadata": {},
   "outputs": [
    {
     "name": "stdout",
     "output_type": "stream",
     "text": [
      "Train batches: 67\n",
      "Val batches: 16\n",
      "Epoch 1/10\n",
      "\u001b[1m67/67\u001b[0m \u001b[32m━━━━━━━━━━━━━━━━━━━━\u001b[0m\u001b[37m\u001b[0m \u001b[1m38s\u001b[0m 547ms/step - accuracy: 0.5440 - loss: 33.9052 - recall: 0.5440 - val_accuracy: 0.5762 - val_loss: 0.6897 - val_recall: 0.5762\n",
      "Epoch 2/10\n",
      "\u001b[1m67/67\u001b[0m \u001b[32m━━━━━━━━━━━━━━━━━━━━\u001b[0m\u001b[37m\u001b[0m \u001b[1m41s\u001b[0m 605ms/step - accuracy: 0.5473 - loss: 0.6910 - recall: 0.5473 - val_accuracy: 0.5898 - val_loss: 0.6876 - val_recall: 0.5898\n",
      "Epoch 3/10\n",
      "\u001b[1m67/67\u001b[0m \u001b[32m━━━━━━━━━━━━━━━━━━━━\u001b[0m\u001b[37m\u001b[0m \u001b[1m35s\u001b[0m 510ms/step - accuracy: 0.5466 - loss: 0.6905 - recall: 0.5466 - val_accuracy: 0.5625 - val_loss: 0.6888 - val_recall: 0.5625\n",
      "Epoch 4/10\n",
      "\u001b[1m67/67\u001b[0m \u001b[32m━━━━━━━━━━━━━━━━━━━━\u001b[0m\u001b[37m\u001b[0m \u001b[1m39s\u001b[0m 578ms/step - accuracy: 0.5459 - loss: 1.8415 - recall: 0.5459 - val_accuracy: 0.5625 - val_loss: 0.6881 - val_recall: 0.5625\n",
      "Epoch 5/10\n",
      "\u001b[1m67/67\u001b[0m \u001b[32m━━━━━━━━━━━━━━━━━━━━\u001b[0m\u001b[37m\u001b[0m \u001b[1m36s\u001b[0m 539ms/step - accuracy: 0.5334 - loss: 0.6910 - recall: 0.5334 - val_accuracy: 0.5859 - val_loss: 0.6851 - val_recall: 0.5859\n",
      "Epoch 6/10\n",
      "\u001b[1m67/67\u001b[0m \u001b[32m━━━━━━━━━━━━━━━━━━━━\u001b[0m\u001b[37m\u001b[0m \u001b[1m33s\u001b[0m 495ms/step - accuracy: 0.5373 - loss: 0.6905 - recall: 0.5373 - val_accuracy: 0.5645 - val_loss: 0.6871 - val_recall: 0.5645\n",
      "Epoch 7/10\n",
      "\u001b[1m67/67\u001b[0m \u001b[32m━━━━━━━━━━━━━━━━━━━━\u001b[0m\u001b[37m\u001b[0m \u001b[1m34s\u001b[0m 493ms/step - accuracy: 0.5421 - loss: 0.6899 - recall: 0.5421 - val_accuracy: 0.5703 - val_loss: 0.6862 - val_recall: 0.5703\n",
      "Epoch 8/10\n",
      "\u001b[1m67/67\u001b[0m \u001b[32m━━━━━━━━━━━━━━━━━━━━\u001b[0m\u001b[37m\u001b[0m \u001b[1m32s\u001b[0m 481ms/step - accuracy: 0.5543 - loss: 0.6882 - recall: 0.5543 - val_accuracy: 0.5801 - val_loss: 0.6844 - val_recall: 0.5801\n",
      "Epoch 9/10\n",
      "\u001b[1m67/67\u001b[0m \u001b[32m━━━━━━━━━━━━━━━━━━━━\u001b[0m\u001b[37m\u001b[0m \u001b[1m32s\u001b[0m 468ms/step - accuracy: 0.5422 - loss: 0.6897 - recall: 0.5422 - val_accuracy: 0.5605 - val_loss: 0.6871 - val_recall: 0.5605\n",
      "Epoch 10/10\n",
      "\u001b[1m67/67\u001b[0m \u001b[32m━━━━━━━━━━━━━━━━━━━━\u001b[0m\u001b[37m\u001b[0m \u001b[1m33s\u001b[0m 484ms/step - accuracy: 0.5468 - loss: 0.6890 - recall: 0.5468 - val_accuracy: 0.5898 - val_loss: 0.6827 - val_recall: 0.5898\n"
     ]
    },
    {
     "data": {
      "text/plain": [
       "<keras.src.callbacks.history.History at 0x126346150>"
      ]
     },
     "execution_count": 70,
     "metadata": {},
     "output_type": "execute_result"
    }
   ],
   "source": [
    "print(\"Train batches:\", cardinality(train_dataset).numpy())\n",
    "print(\"Val batches:\", cardinality(val_dataset).numpy())\n",
    "\n",
    "model.fit(train_dataset, epochs=10, validation_data=val_dataset, callbacks=[es])"
   ]
  },
  {
   "cell_type": "code",
   "execution_count": 71,
   "id": "b5e550ca",
   "metadata": {},
   "outputs": [
    {
     "name": "stdout",
     "output_type": "stream",
     "text": [
      "\u001b[1m21/21\u001b[0m \u001b[32m━━━━━━━━━━━━━━━━━━━━\u001b[0m\u001b[37m\u001b[0m \u001b[1m2s\u001b[0m 72ms/step\n"
     ]
    }
   ],
   "source": [
    "y_pred = model.predict(test_dataset)"
   ]
  },
  {
   "cell_type": "code",
   "execution_count": null,
   "id": "cc05c1d8",
   "metadata": {},
   "outputs": [],
   "source": []
  }
 ],
 "metadata": {
  "kernelspec": {
   "display_name": "lewagon",
   "language": "python",
   "name": "python3"
  },
  "language_info": {
   "codemirror_mode": {
    "name": "ipython",
    "version": 3
   },
   "file_extension": ".py",
   "mimetype": "text/x-python",
   "name": "python",
   "nbconvert_exporter": "python",
   "pygments_lexer": "ipython3",
   "version": "3.12.9"
  }
 },
 "nbformat": 4,
 "nbformat_minor": 5
}
